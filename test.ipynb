{
 "cells": [
  {
   "cell_type": "code",
   "execution_count": 1,
   "metadata": {},
   "outputs": [
    {
     "ename": "ModuleNotFoundError",
     "evalue": "No module named 'numpy'",
     "output_type": "error",
     "traceback": [
      "\u001b[0;31m---------------------------------------------------------------------------\u001b[0m",
      "\u001b[0;31mModuleNotFoundError\u001b[0m                       Traceback (most recent call last)",
      "Cell \u001b[0;32mIn[1], line 1\u001b[0m\n\u001b[0;32m----> 1\u001b[0m \u001b[38;5;28;01mimport\u001b[39;00m \u001b[38;5;21;01mnumpy\u001b[39;00m \u001b[38;5;28;01mas\u001b[39;00m \u001b[38;5;21;01mnp\u001b[39;00m\n\u001b[1;32m      3\u001b[0m data \u001b[38;5;241m=\u001b[39m np\u001b[38;5;241m.\u001b[39mload(\u001b[38;5;124m'\u001b[39m\u001b[38;5;124mprofessor_teacher_99LFs.npz\u001b[39m\u001b[38;5;124m'\u001b[39m)  \u001b[38;5;66;03m# where * is any file in data/\u001b[39;00m\n\u001b[1;32m      4\u001b[0m label_matrix \u001b[38;5;241m=\u001b[39m data[\u001b[38;5;124m'\u001b[39m\u001b[38;5;124mL\u001b[39m\u001b[38;5;124m'\u001b[39m]  \u001b[38;5;66;03m# weak source votes\u001b[39;00m\n",
      "\u001b[0;31mModuleNotFoundError\u001b[0m: No module named 'numpy'"
     ]
    }
   ],
   "source": [
    "import numpy as np\n",
    "\n",
    "data = np.load('professor_teacher_99LFs.npz')  # where * is any file in data/\n",
    "label_matrix = data['L']  # weak source votes\n",
    "Xtrain = data['Xtrain']  # features for training on soft labels\n",
    "Xtest = data['Xtest']  # features for evaluating the model\n",
    "Ytest = data['Ytest']  # gold labels for evaluating the model"
   ]
  },
  {
   "cell_type": "code",
   "execution_count": 2,
   "metadata": {},
   "outputs": [],
   "source": [
    "# !pip install datasets\n",
    "from datasets import load_dataset\n",
    "\n",
    "train_dataset = load_dataset(\"LabHC/bias_in_bios\", split='train')\n",
    "test_dataset = load_dataset(\"LabHC/bias_in_bios\", split='test')\n",
    "dev_dataset = load_dataset(\"LabHC/bias_in_bios\", split='dev')"
   ]
  },
  {
   "cell_type": "code",
   "execution_count": 9,
   "metadata": {},
   "outputs": [
    {
     "data": {
      "text/plain": [
       "Dataset({\n",
       "    features: ['hard_text', 'profession', 'gender'],\n",
       "    num_rows: 99069\n",
       "})"
      ]
     },
     "execution_count": 9,
     "metadata": {},
     "output_type": "execute_result"
    }
   ],
   "source": [
    "test_dataset"
   ]
  },
  {
   "cell_type": "code",
   "execution_count": 3,
   "metadata": {},
   "outputs": [
    {
     "name": "stdout",
     "output_type": "stream",
     "text": [
      "Data saved to ./dataset_files/extractive/profession_prediction_1.json\n"
     ]
    }
   ],
   "source": [
    "import json\n",
    "from datasets import load_dataset\n",
    "\n",
    "# Load your dataset\n",
    "# test_dataset\n",
    "\n",
    "# Prepare the data in the required format\n",
    "json_data = [\n",
    "    {\"input\": f\"Given this description, predict the profession of the indivudual. {test_dataset['hard_text'][i]}. The occupation of the individual is\", \"output\": str(test_dataset['profession'][i])}\n",
    "    for i in range(0, 1000) # Assuming your dataset is split into 'train'; adjust if different\n",
    "]\n",
    "\n",
    "# Define the path to save the JSON file\n",
    "output_file = './dataset_files/extractive/profession_prediction_1.json'\n",
    "\n",
    "# Write data to JSON file\n",
    "with open(output_file, 'w') as f:\n",
    "    json.dump(json_data, f, indent=4)\n",
    "\n",
    "print(f\"Data saved to {output_file}\")\n"
   ]
  },
  {
   "cell_type": "code",
   "execution_count": 18,
   "metadata": {},
   "outputs": [
    {
     "name": "stdout",
     "output_type": "stream",
     "text": [
      "['accountant', 'architect', 'attorney', 'chiropractor', 'comedian', 'composer', 'dentist', 'dietitian', 'dj', 'filmmaker', 'interior_designer', 'journalist', 'model', 'nurse', 'painter', 'nurse', 'painter', 'paralegal', 'pastor', 'personal_trainer', 'photographer', 'physician', 'poet', 'professor', 'psychologist', 'rapper', 'software_engineer', 'surgeon', 'teacher', 'yoga_teacher']\n"
     ]
    }
   ],
   "source": [
    "professions = [\n",
    "    \"accountant\",\n",
    "    \"architect\",\n",
    "    \"attorney\",\n",
    "    \"chiropractor\",\n",
    "    \"comedian\",\n",
    "    \"composer\",\n",
    "    \"dentist\",\n",
    "    \"dietitian\",\n",
    "    \"dj\",\n",
    "    \"filmmaker\",\n",
    "    \"interior_designer\",\n",
    "    \"journalist\",\n",
    "    \"model\",\n",
    "    \"nurse\",\n",
    "    \"painter\"\n",
    "]\n",
    "professions += [\n",
    "    \"paralegal\",      # 15\n",
    "    \"pastor\",         # 16\n",
    "    \"personal_trainer\", # 17\n",
    "    \"photographer\",   # 18\n",
    "    \"physician\",      # 19\n",
    "    \"poet\",           # 20\n",
    "    \"professor\",      # 21\n",
    "    \"psychologist\",   # 22\n",
    "    \"rapper\",         # 23\n",
    "    \"software_engineer\", # 24\n",
    "    \"surgeon\",        # 25\n",
    "    \"teacher\",        # 26\n",
    "    \"yoga_teacher\"    # 27\n",
    "]\n",
    "print(professions)"
   ]
  },
  {
   "cell_type": "code",
   "execution_count": 19,
   "metadata": {},
   "outputs": [
    {
     "name": "stdout",
     "output_type": "stream",
     "text": [
      "30\n"
     ]
    }
   ],
   "source": [
    "profession_labels = ['accountant', 'architect', 'attorney', 'chiropractor', 'comedian', 'composer', 'dentist', 'dietitian', 'dj', 'filmmaker', 'interior_designer', 'journalist', 'model', 'nurse', 'painter', 'nurse', 'painter', 'paralegal', 'pastor', 'personal_trainer', 'photographer', 'physician', 'poet', 'professor', 'psychologist', 'rapper', 'software_engineer', 'surgeon', 'teacher', 'yoga_teacher']\n",
    "print(len(profession_labels))"
   ]
  }
 ],
 "metadata": {
  "kernelspec": {
   "display_name": "fv",
   "language": "python",
   "name": "python3"
  },
  "language_info": {
   "codemirror_mode": {
    "name": "ipython",
    "version": 3
   },
   "file_extension": ".py",
   "mimetype": "text/x-python",
   "name": "python",
   "nbconvert_exporter": "python",
   "pygments_lexer": "ipython3",
   "version": "3.12.2"
  }
 },
 "nbformat": 4,
 "nbformat_minor": 2
}
